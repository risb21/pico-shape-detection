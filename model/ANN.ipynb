{
 "cells": [
  {
   "cell_type": "code",
   "execution_count": 18,
   "metadata": {},
   "outputs": [],
   "source": [
    "import matplotlib.pyplot as plt\n",
    "import numpy as np\n",
    "import tensorflow as tf\n",
    "from tensorflow import keras\n",
    "from sklearn.model_selection import train_test_split\n",
    "from sklearn.preprocessing import LabelEncoder\n",
    "from sklearn.metrics import classification_report, confusion_matrix\n",
    "import seaborn as sns\n",
    "import random\n",
    "import datetime\n",
    "import csv\n",
    "import os"
   ]
  },
  {
   "cell_type": "markdown",
   "metadata": {},
   "source": [
    "- Get into the directory with accelerometer recordings"
   ]
  },
  {
   "cell_type": "code",
   "execution_count": 4,
   "metadata": {},
   "outputs": [
    {
     "data": {
      "text/plain": [
       "['circle', 'square', 'triangle']"
      ]
     },
     "execution_count": 4,
     "metadata": {},
     "output_type": "execute_result"
    }
   ],
   "source": [
    "os.chdir(r\"./accelerometer_data/\")\n",
    "os.listdir()"
   ]
  },
  {
   "cell_type": "code",
   "execution_count": 3,
   "metadata": {},
   "outputs": [],
   "source": [
    "# os.chdir(\"..\")\n",
    "# os.chdir(\"acc_py\")\n",
    "# os.getcwd()"
   ]
  },
  {
   "cell_type": "markdown",
   "metadata": {},
   "source": [
    "- Find maximum length of recordings and plot it on a histogram"
   ]
  },
  {
   "cell_type": "code",
   "execution_count": 7,
   "metadata": {},
   "outputs": [
    {
     "name": "stdout",
     "output_type": "stream",
     "text": [
      "In the circle directory\n",
      "In the square directory\n",
      "In the triangle directory\n",
      "83\n"
     ]
    }
   ],
   "source": [
    "maxlen = 0\n",
    "hist_data = []\n",
    "for shape in os.listdir():\n",
    "    os.chdir(f\"./{shape}\")\n",
    "    print(f\"In the {shape} directory\")\n",
    "    for file in os.listdir():\n",
    "        rec_len = 0\n",
    "        with open(file, \"r\") as f:\n",
    "            reader = csv.reader(f)\n",
    "            data = list(reader)[1:]\n",
    "            d_array = np.array(data, dtype = float)\n",
    "            maxlen = max(maxlen, d_array.shape[0])\n",
    "            hist_data.append(d_array.shape[0])\n",
    "\n",
    "    os.chdir(\"..\")\n",
    "\n",
    "\n",
    "print(\"Maximum length of recording\", maxlen)\n"
   ]
  },
  {
   "cell_type": "code",
   "execution_count": 8,
   "metadata": {},
   "outputs": [
    {
     "data": {
      "image/png": "[encoded data removed]",
      "text/plain": [
       "<Figure size 640x480 with 1 Axes>"
      ]
     },
     "metadata": {},
     "output_type": "display_data"
    }
   ],
   "source": [
    "plt.hist(hist_data, int(120/5), color = 'green', alpha = 0.7)\n",
    "plt.xlabel('Length of data')\n",
    "plt.ylabel('No. of recordings')\n",
    "plt.show()"
   ]
  },
  {
   "cell_type": "markdown",
   "metadata": {},
   "source": [
    "- Culling of recordings that are too long/short (According to the histogram)"
   ]
  },
  {
   "cell_type": "code",
   "execution_count": 9,
   "metadata": {},
   "outputs": [
    {
     "name": "stdout",
     "output_type": "stream",
     "text": [
      "In the circle directory\n",
      "In the square directory\n",
      "In the triangle directory\n",
      "Removed shape quantities: {}\n"
     ]
    }
   ],
   "source": [
    "rem_shapes = {}\n",
    "rec_len = 0\n",
    "for shape in os.listdir():\n",
    "    os.chdir(f\"./{shape}\")\n",
    "    print(f\"In the {shape} directory\")\n",
    "    for file in os.listdir():\n",
    "        rec_len = 0\n",
    "        with open(file, \"r\") as f:\n",
    "            reader = csv.reader(f)\n",
    "            data = list(reader)[1:]\n",
    "            d_array = np.array(data, dtype = float)\n",
    "            rec_len = d_array.shape[0]\n",
    "        \n",
    "        if rec_len <= 5 or rec_len > 85:\n",
    "            os.remove(file)\n",
    "            rem_shapes[shape] += 1\n",
    "\n",
    "    os.chdir(\"..\")\n",
    "\n",
    "print(\"Removed shape quantities:\", rem_shapes)"
   ]
  },
  {
   "cell_type": "markdown",
   "metadata": {},
   "source": [
    "- Read .csv data"
   ]
  },
  {
   "cell_type": "code",
   "execution_count": 11,
   "metadata": {},
   "outputs": [
    {
     "name": "stdout",
     "output_type": "stream",
     "text": [
      "In the circle directory\n",
      "circle (101, 83, 3)\n",
      "In the square directory\n",
      "square (101, 83, 3)\n",
      "In the triangle directory\n",
      "triangle (101, 83, 3)\n"
     ]
    }
   ],
   "source": [
    "shapes = {}\n",
    "\n",
    "for shape in os.listdir():\n",
    "    os.chdir(f\"./{shape}\")\n",
    "    print(f\"In the {shape} directory\")\n",
    "    for i, file in enumerate(os.listdir()):\n",
    "        with open(file, \"r\") as f:\n",
    "            try:\n",
    "                reader = csv.reader(f)\n",
    "                data = list(reader)[1:]\n",
    "                data.extend([['0.0' for _ in range(3)] for _ in range(83 - len(data))])\n",
    "                d_array = np.array(data, dtype = float)\n",
    "                d_array.reshape((1, 83, 3))\n",
    "                if i == 0:\n",
    "                    shapes[shape] = d_array\n",
    "                else:\n",
    "                    shapes[shape] = np.append(shapes[shape], d_array)\n",
    "            except Exception as e:\n",
    "                os.chdir(\"..\")\n",
    "                raise e\n",
    "            \n",
    "    shapes[shape] = shapes[shape].reshape((101, 83, 3))\n",
    "    print(shape, shapes[shape].shape)\n",
    "    os.chdir(\"..\")"
   ]
  },
  {
   "cell_type": "code",
   "execution_count": 12,
   "metadata": {},
   "outputs": [
    {
     "data": {
      "text/plain": [
       "(303,)"
      ]
     },
     "execution_count": 12,
     "metadata": {},
     "output_type": "execute_result"
    }
   ],
   "source": [
    "\n",
    "samples = 101\n",
    "\n",
    "# Combine data and labels\n",
    "data = np.vstack((shapes['circle'], shapes['square'], shapes['triangle']))\n",
    "labels = np.hstack((['circle'] * samples, ['square'] * samples, ['triangle'] * samples))\n",
    "labels.shape\n"
   ]
  },
  {
   "cell_type": "code",
   "execution_count": 13,
   "metadata": {},
   "outputs": [],
   "source": [
    "# Encode labels\n",
    "label_encoder = LabelEncoder()\n",
    "encoded_labels = label_encoder.fit_transform(labels)\n",
    "\n",
    "# Split data into training and testing sets\n",
    "X_train, X_test, y_train, y_test = train_test_split(data, encoded_labels, test_size=0.2, random_state=42)"
   ]
  },
  {
   "cell_type": "code",
   "execution_count": 14,
   "metadata": {},
   "outputs": [
    {
     "name": "stderr",
     "output_type": "stream",
     "text": [
      "2024-02-11 12:41:17.236517: I external/local_xla/xla/stream_executor/cuda/cuda_executor.cc:901] successful NUMA node read from SysFS had negative value (-1), but there must be at least one NUMA node, so returning NUMA node zero. See more at https://github.com/torvalds/linux/blob/v6.0/Documentation/ABI/testing/sysfs-bus-pci#L344-L355\n",
      "2024-02-11 12:41:17.571126: I external/local_xla/xla/stream_executor/cuda/cuda_executor.cc:901] successful NUMA node read from SysFS had negative value (-1), but there must be at least one NUMA node, so returning NUMA node zero. See more at https://github.com/torvalds/linux/blob/v6.0/Documentation/ABI/testing/sysfs-bus-pci#L344-L355\n",
      "2024-02-11 12:41:17.571318: I external/local_xla/xla/stream_executor/cuda/cuda_executor.cc:901] successful NUMA node read from SysFS had negative value (-1), but there must be at least one NUMA node, so returning NUMA node zero. See more at https://github.com/torvalds/linux/blob/v6.0/Documentation/ABI/testing/sysfs-bus-pci#L344-L355\n",
      "2024-02-11 12:41:17.573607: I external/local_xla/xla/stream_executor/cuda/cuda_executor.cc:901] successful NUMA node read from SysFS had negative value (-1), but there must be at least one NUMA node, so returning NUMA node zero. See more at https://github.com/torvalds/linux/blob/v6.0/Documentation/ABI/testing/sysfs-bus-pci#L344-L355\n",
      "2024-02-11 12:41:17.573909: I external/local_xla/xla/stream_executor/cuda/cuda_executor.cc:901] successful NUMA node read from SysFS had negative value (-1), but there must be at least one NUMA node, so returning NUMA node zero. See more at https://github.com/torvalds/linux/blob/v6.0/Documentation/ABI/testing/sysfs-bus-pci#L344-L355\n",
      "2024-02-11 12:41:17.574053: I external/local_xla/xla/stream_executor/cuda/cuda_executor.cc:901] successful NUMA node read from SysFS had negative value (-1), but there must be at least one NUMA node, so returning NUMA node zero. See more at https://github.com/torvalds/linux/blob/v6.0/Documentation/ABI/testing/sysfs-bus-pci#L344-L355\n",
      "2024-02-11 12:41:17.666925: I external/local_xla/xla/stream_executor/cuda/cuda_executor.cc:901] successful NUMA node read from SysFS had negative value (-1), but there must be at least one NUMA node, so returning NUMA node zero. See more at https://github.com/torvalds/linux/blob/v6.0/Documentation/ABI/testing/sysfs-bus-pci#L344-L355\n",
      "2024-02-11 12:41:17.667114: I external/local_xla/xla/stream_executor/cuda/cuda_executor.cc:901] successful NUMA node read from SysFS had negative value (-1), but there must be at least one NUMA node, so returning NUMA node zero. See more at https://github.com/torvalds/linux/blob/v6.0/Documentation/ABI/testing/sysfs-bus-pci#L344-L355\n",
      "2024-02-11 12:41:17.667261: I external/local_xla/xla/stream_executor/cuda/cuda_executor.cc:901] successful NUMA node read from SysFS had negative value (-1), but there must be at least one NUMA node, so returning NUMA node zero. See more at https://github.com/torvalds/linux/blob/v6.0/Documentation/ABI/testing/sysfs-bus-pci#L344-L355\n",
      "2024-02-11 12:41:17.667372: I tensorflow/core/common_runtime/gpu/gpu_device.cc:1929] Created device /job:localhost/replica:0/task:0/device:GPU:0 with 3485 MB memory:  -> device: 0, name: NVIDIA GeForce GTX 1050 Ti, pci bus id: 0000:01:00.0, compute capability: 6.1\n"
     ]
    }
   ],
   "source": [
    "model = keras.models.Sequential()\n",
    "\n",
    "model.add(keras.Input(shape = (X_train.shape[1], X_train.shape[2])))\n",
    "model.add(keras.layers.Flatten())\n",
    "model.add(keras.layers.Dense(32, activation='relu'))\n",
    "model.add(keras.layers.Dense(16, activation='relu'))\n",
    "model.add(keras.layers.Dense(8, activation='relu'))\n",
    "model.add(keras.layers.Dense(3, activation='softmax'))\n",
    "\n",
    "# Compile the model\n",
    "loss_fn = keras.losses.SparseCategoricalCrossentropy(from_logits=True)\n",
    "model.compile(optimizer='adam', loss=loss_fn, metrics=['accuracy'])"
   ]
  },
  {
   "cell_type": "code",
   "execution_count": 15,
   "metadata": {},
   "outputs": [
    {
     "name": "stdout",
     "output_type": "stream",
     "text": [
      "Model: \"sequential\"\n",
      "_________________________________________________________________\n",
      " Layer (type)                Output Shape              Param #   \n",
      "=================================================================\n",
      " flatten (Flatten)           (None, 249)               0         \n",
      "                                                                 \n",
      " dense (Dense)               (None, 32)                8000      \n",
      "                                                                 \n",
      " dense_1 (Dense)             (None, 16)                528       \n",
      "                                                                 \n",
      " dense_2 (Dense)             (None, 8)                 136       \n",
      "                                                                 \n",
      " dense_3 (Dense)             (None, 3)                 27        \n",
      "                                                                 \n",
      "=================================================================\n",
      "Total params: 8691 (33.95 KB)\n",
      "Trainable params: 8691 (33.95 KB)\n",
      "Non-trainable params: 0 (0.00 Byte)\n",
      "_________________________________________________________________\n"
     ]
    }
   ],
   "source": [
    "model.summary()"
   ]
  },
  {
   "cell_type": "code",
   "execution_count": 16,
   "metadata": {},
   "outputs": [
    {
     "name": "stdout",
     "output_type": "stream",
     "text": [
      "Epoch 1/20\n"
     ]
    },
    {
     "name": "stderr",
     "output_type": "stream",
     "text": [
      "/home/risb/Desktop/acc_py/rnn/lib/python3.11/site-packages/keras/src/backend.py:5727: UserWarning: \"`sparse_categorical_crossentropy` received `from_logits=True`, but the `output` argument was produced by a Softmax activation and thus does not represent logits. Was this intended?\n",
      "  output, from_logits = _get_logits(\n",
      "2024-02-11 12:41:31.245269: I external/local_tsl/tsl/platform/default/subprocess.cc:304] Start cannot spawn child process: No such file or directory\n",
      "2024-02-11 12:41:31.424565: I external/local_xla/xla/service/service.cc:168] XLA service 0x7693ba4978d0 initialized for platform CUDA (this does not guarantee that XLA will be used). Devices:\n",
      "2024-02-11 12:41:31.424601: I external/local_xla/xla/service/service.cc:176]   StreamExecutor device (0): NVIDIA GeForce GTX 1050 Ti, Compute Capability 6.1\n",
      "2024-02-11 12:41:31.443999: I tensorflow/compiler/mlir/tensorflow/utils/dump_mlir_util.cc:269] disabling MLIR crash reproducer, set env var `MLIR_CRASH_REPRODUCER_DIRECTORY` to enable.\n",
      "2024-02-11 12:41:31.489362: I external/local_xla/xla/stream_executor/cuda/cuda_dnn.cc:454] Loaded cuDNN version 8904\n",
      "WARNING: All log messages before absl::InitializeLog() is called are written to STDERR\n",
      "I0000 00:00:1707635491.590193   10630 device_compiler.h:186] Compiled cluster using XLA!  This line is logged at most once for the lifetime of the process.\n"
     ]
    },
    {
     "name": "stdout",
     "output_type": "stream",
     "text": [
      "193/193 [==============================] - 3s 5ms/step - loss: 1.0534 - accuracy: 0.5130 - val_loss: 0.9555 - val_accuracy: 0.5306\n",
      "Epoch 2/20\n",
      "193/193 [==============================] - 1s 4ms/step - loss: 0.6825 - accuracy: 0.7617 - val_loss: 0.8897 - val_accuracy: 0.6531\n",
      "Epoch 3/20\n",
      "193/193 [==============================] - 1s 4ms/step - loss: 0.5052 - accuracy: 0.8187 - val_loss: 0.7375 - val_accuracy: 0.7347\n",
      "Epoch 4/20\n",
      "193/193 [==============================] - 1s 4ms/step - loss: 0.4163 - accuracy: 0.8342 - val_loss: 0.6689 - val_accuracy: 0.7347\n",
      "Epoch 5/20\n",
      "193/193 [==============================] - 1s 4ms/step - loss: 0.3112 - accuracy: 0.8653 - val_loss: 0.8459 - val_accuracy: 0.6735\n",
      "Epoch 6/20\n",
      "193/193 [==============================] - 1s 4ms/step - loss: 0.2739 - accuracy: 0.8808 - val_loss: 0.6729 - val_accuracy: 0.7143\n",
      "Epoch 7/20\n",
      "193/193 [==============================] - 1s 4ms/step - loss: 0.2181 - accuracy: 0.9119 - val_loss: 0.8366 - val_accuracy: 0.6531\n",
      "Epoch 8/20\n",
      "193/193 [==============================] - 1s 4ms/step - loss: 0.2069 - accuracy: 0.9171 - val_loss: 0.6799 - val_accuracy: 0.6735\n",
      "Epoch 9/20\n",
      "193/193 [==============================] - 1s 4ms/step - loss: 0.1521 - accuracy: 0.9637 - val_loss: 0.6678 - val_accuracy: 0.7551\n",
      "Epoch 10/20\n",
      "193/193 [==============================] - 1s 4ms/step - loss: 0.1877 - accuracy: 0.9067 - val_loss: 0.7142 - val_accuracy: 0.7347\n",
      "Epoch 11/20\n",
      "193/193 [==============================] - 1s 4ms/step - loss: 0.0980 - accuracy: 0.9741 - val_loss: 0.6932 - val_accuracy: 0.7347\n",
      "Epoch 12/20\n",
      "193/193 [==============================] - 1s 4ms/step - loss: 0.1011 - accuracy: 0.9793 - val_loss: 0.7385 - val_accuracy: 0.7347\n",
      "Epoch 13/20\n",
      "193/193 [==============================] - 1s 4ms/step - loss: 0.0703 - accuracy: 0.9689 - val_loss: 0.6800 - val_accuracy: 0.7551\n",
      "Epoch 14/20\n",
      "193/193 [==============================] - 1s 4ms/step - loss: 0.0786 - accuracy: 0.9741 - val_loss: 0.8886 - val_accuracy: 0.7143\n",
      "Epoch 15/20\n",
      "193/193 [==============================] - 1s 4ms/step - loss: 0.0423 - accuracy: 0.9845 - val_loss: 1.0522 - val_accuracy: 0.7143\n",
      "Epoch 16/20\n",
      "193/193 [==============================] - 1s 4ms/step - loss: 0.0388 - accuracy: 0.9948 - val_loss: 0.9673 - val_accuracy: 0.7347\n",
      "Epoch 17/20\n",
      "193/193 [==============================] - 1s 4ms/step - loss: 0.0312 - accuracy: 1.0000 - val_loss: 1.3208 - val_accuracy: 0.6939\n",
      "Epoch 18/20\n",
      "193/193 [==============================] - 1s 4ms/step - loss: 0.0284 - accuracy: 1.0000 - val_loss: 1.0746 - val_accuracy: 0.6735\n",
      "Epoch 19/20\n",
      "193/193 [==============================] - 1s 4ms/step - loss: 0.0161 - accuracy: 1.0000 - val_loss: 1.1636 - val_accuracy: 0.6735\n",
      "Epoch 20/20\n",
      "193/193 [==============================] - 1s 4ms/step - loss: 0.0090 - accuracy: 1.0000 - val_loss: 1.1248 - val_accuracy: 0.6939\n"
     ]
    },
    {
     "data": {
      "text/plain": [
       "<keras.src.callbacks.History at 0x76953caaefd0>"
      ]
     },
     "execution_count": 16,
     "metadata": {},
     "output_type": "execute_result"
    }
   ],
   "source": [
    "model.fit(X_train, y_train, epochs=20, batch_size=1, validation_split=0.2)"
   ]
  },
  {
   "cell_type": "code",
   "execution_count": 19,
   "metadata": {},
   "outputs": [
    {
     "name": "stdout",
     "output_type": "stream",
     "text": [
      "2/2 [==============================] - 0s 5ms/step\n",
      "              precision    recall  f1-score   support\n",
      "\n",
      "      circle       0.90      1.00      0.95        18\n",
      "      square       0.95      0.82      0.88        22\n",
      "    triangle       0.82      0.86      0.84        21\n",
      "\n",
      "    accuracy                           0.89        61\n",
      "   macro avg       0.89      0.89      0.89        61\n",
      "weighted avg       0.89      0.89      0.88        61\n",
      "\n"
     ]
    },
    {
     "data": {
      "text/plain": [
       "<Axes: >"
      ]
     },
     "execution_count": 19,
     "metadata": {},
     "output_type": "execute_result"
    },
    {
     "data": {
      "image/png": "[encoded data removed]",
      "text/plain": [
       "<Figure size 640x480 with 2 Axes>"
      ]
     },
     "metadata": {},
     "output_type": "display_data"
    }
   ],
   "source": [
    "y_pred = np.argmax(model.predict(X_test), axis=1)\n",
    "\n",
    "# Calculate accuracy\n",
    "classes = ['circle', 'square', 'triangle']\n",
    "print(classification_report(y_pred, y_test, target_names=classes))\n",
    "sns.heatmap(confusion_matrix(y_test, y_pred), annot=True, xticklabels=classes, yticklabels=classes)"
   ]
  },
  {
   "cell_type": "code",
   "execution_count": 20,
   "metadata": {},
   "outputs": [
    {
     "name": "stdout",
     "output_type": "stream",
     "text": [
      "INFO:tensorflow:Assets written to: acc/assets\n"
     ]
    },
    {
     "name": "stderr",
     "output_type": "stream",
     "text": [
      "INFO:tensorflow:Assets written to: acc/assets\n"
     ]
    }
   ],
   "source": [
    "os.chdir(\"..\")\n",
    "model.save(\"acc\")"
   ]
  },
  {
   "cell_type": "code",
   "execution_count": 21,
   "metadata": {},
   "outputs": [
    {
     "name": "stdout",
     "output_type": "stream",
     "text": [
      "INFO:tensorflow:Assets written to: /tmp/tmpladaw0o7/assets\n"
     ]
    },
    {
     "name": "stderr",
     "output_type": "stream",
     "text": [
      "INFO:tensorflow:Assets written to: /tmp/tmpladaw0o7/assets\n",
      "/home/risb/Desktop/acc_py/rnn/lib/python3.11/site-packages/tensorflow/lite/python/convert.py:953: UserWarning: Statistics for quantized inputs were expected, but not specified; continuing anyway.\n",
      "  warnings.warn(\n",
      "2024-02-11 12:46:02.655969: W tensorflow/compiler/mlir/lite/python/tf_tfl_flatbuffer_helpers.cc:378] Ignored output_format.\n",
      "2024-02-11 12:46:02.655989: W tensorflow/compiler/mlir/lite/python/tf_tfl_flatbuffer_helpers.cc:381] Ignored drop_control_dependency.\n",
      "2024-02-11 12:46:02.656310: I tensorflow/cc/saved_model/reader.cc:83] Reading SavedModel from: /tmp/tmpladaw0o7\n",
      "2024-02-11 12:46:02.656967: I tensorflow/cc/saved_model/reader.cc:51] Reading meta graph with tags { serve }\n",
      "2024-02-11 12:46:02.656978: I tensorflow/cc/saved_model/reader.cc:146] Reading SavedModel debug info (if present) from: /tmp/tmpladaw0o7\n",
      "2024-02-11 12:46:02.658491: I tensorflow/compiler/mlir/mlir_graph_optimization_pass.cc:388] MLIR V1 optimization pass is not enabled\n",
      "2024-02-11 12:46:02.659050: I tensorflow/cc/saved_model/loader.cc:233] Restoring SavedModel bundle.\n",
      "2024-02-11 12:46:02.684531: I tensorflow/cc/saved_model/loader.cc:217] Running initialization op on SavedModel bundle at path: /tmp/tmpladaw0o7\n",
      "2024-02-11 12:46:02.691834: I tensorflow/cc/saved_model/loader.cc:316] SavedModel load for tags { serve }; Status: success: OK. Took 35525 microseconds.\n",
      "Summary on the non-converted ops:\n",
      "---------------------------------\n",
      " * Accepted dialects: tfl, builtin, func\n",
      " * Non-Converted Ops: 9, Total Ops 18, % non-converted = 50.00 %\n",
      " * 9 ARITH ops\n",
      "\n",
      "- arith.constant:    9 occurrences  (f32: 8, i32: 1)\n",
      "\n",
      "\n",
      "\n",
      "  (f32: 4)\n",
      "  (f32: 1)\n",
      "  (f32: 1)\n",
      "fully_quantize: 0, inference_type: 6, input_inference_type: UINT8, output_inference_type: UINT8\n"
     ]
    }
   ],
   "source": [
    "\n",
    "random.seed(datetime.datetime.now().microsecond + datetime.datetime.now().second)\n",
    "\n",
    "model = keras.models.load_model(\"acc\")\n",
    "\n",
    "def repr_dataset():\n",
    "    data = shapes[random.choice(['circle', 'square', 'triangle'])][random.randint(0, 100)]\n",
    "    yield [np.float32(data)]\n",
    "\n",
    "tflite_name = \"acc_edge_small_int8.tflite\"\n",
    "\n",
    "tflite_converter = tf.lite.TFLiteConverter.from_keras_model(model)\n",
    "tflite_converter.representative_dataset = repr_dataset\n",
    "tflite_converter.target_spec.supported_ops = [tf.lite.OpsSet.TFLITE_BUILTINS_INT8]\n",
    "tflite_converter.inference_input_type = tf.uint8\n",
    "tflite_converter.inference_output_type = tf.uint8\n",
    "tflite_converter.optimizations = [tf.lite.Optimize.DEFAULT]\n",
    "tflite_model = tflite_converter.convert()"
   ]
  },
  {
   "cell_type": "code",
   "execution_count": 22,
   "metadata": {},
   "outputs": [
    {
     "data": {
      "text/plain": [
       "12528"
      ]
     },
     "execution_count": 22,
     "metadata": {},
     "output_type": "execute_result"
    }
   ],
   "source": [
    "\n",
    "open(tflite_name, 'wb').write(tflite_model)"
   ]
  },
  {
   "cell_type": "code",
   "execution_count": 23,
   "metadata": {},
   "outputs": [],
   "source": [
    "def hex_to_carray(hex_data, var: str) -> str:\n",
    "    c_str = ''\n",
    "\n",
    "    # Add header\n",
    "    c_str += '#pragma once\\n\\n'\n",
    "    c_str += 'const unsigned int ' + var + '_len = ' + str(len(hex_data)) + ';\\n'\n",
    "    c_str += 'const unsigned char ' + var + '[] = {\\n\\t'\n",
    "\n",
    "    for i, val in enumerate(hex_data):\n",
    "        c_str += f\"0x{val:02x}{',' if i+1 < len(hex_data) else ''}\"\n",
    "        if (i+1) % 100 == 0:\n",
    "            c_str += '\\n\\t'\n",
    "    \n",
    "    c_str += '\\n};\\n'\n",
    "\n",
    "    return c_str"
   ]
  },
  {
   "cell_type": "code",
   "execution_count": 24,
   "metadata": {},
   "outputs": [],
   "source": [
    "with open('shape_model_int8.hpp', 'w') as f:\n",
    "    f.write(hex_to_carray(tflite_model, 'shape_model'))"
   ]
  },
  {
   "cell_type": "markdown",
   "metadata": {},
   "source": [
    "- Copy and paste the .hpp file into the `src` directory of the repo"
   ]
  },
  {
   "cell_type": "code",
   "execution_count": 25,
   "metadata": {},
   "outputs": [
    {
     "name": "stdout",
     "output_type": "stream",
     "text": [
      "[{'name': 'serving_default_input_1:0', 'index': 0, 'shape': array([ 1, 83,  3], dtype=int32), 'shape_signature': array([-1, 83,  3], dtype=int32), 'dtype': <class 'numpy.uint8'>, 'quantization': (0.008435294032096863, 85), 'quantization_parameters': {'scales': array([0.00843529], dtype=float32), 'zero_points': array([85], dtype=int32), 'quantized_dimension': 0}, 'sparsity_parameters': {}}]\n",
      "[{'name': 'StatefulPartitionedCall:0', 'index': 17, 'shape': array([1, 3], dtype=int32), 'shape_signature': array([-1,  3], dtype=int32), 'dtype': <class 'numpy.uint8'>, 'quantization': (0.00390625, 0), 'quantization_parameters': {'scales': array([0.00390625], dtype=float32), 'zero_points': array([0], dtype=int32), 'quantized_dimension': 0}, 'sparsity_parameters': {}}]\n"
     ]
    },
    {
     "name": "stderr",
     "output_type": "stream",
     "text": [
      "INFO: Created TensorFlow Lite XNNPACK delegate for CPU.\n"
     ]
    }
   ],
   "source": [
    "import random\n",
    "import datetime\n",
    "\n",
    "\n",
    "random.seed(datetime.datetime.now().microsecond + datetime.datetime.now().second)\n",
    "\n",
    "interpreter = tf.lite.Interpreter(model_path='acc_edge_small_int8.tflite')\n",
    "\n",
    "input_details = interpreter.get_input_details()\n",
    "output_details = interpreter.get_output_details()\n",
    "\n",
    "interpreter.allocate_tensors()\n",
    "\n",
    "print(input_details)\n",
    "print(output_details)\n",
    "\n",
    "# interpreter.set_tensor(input_details[0]['index'], np.float32(shapes['square'][random.randint(0, 100)].reshape((1, 83, 3))))\n",
    "# interpreter.invoke()\n",
    "\n",
    "# output_data = interpreter.get_tensor(output_details[0]['index'])\n",
    "\n",
    "# print(output_data)"
   ]
  }
 ],
 "metadata": {
  "kernelspec": {
   "display_name": "Python 3",
   "language": "python",
   "name": "python3"
  },
  "language_info": {
   "codemirror_mode": {
    "name": "ipython",
    "version": 3
   },
   "file_extension": ".py",
   "mimetype": "text/x-python",
   "name": "python",
   "nbconvert_exporter": "python",
   "pygments_lexer": "ipython3",
   "version": "3.11.6"
  }
 },
 "nbformat": 4,
 "nbformat_minor": 2
}
