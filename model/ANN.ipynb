{
 "cells": [
  {
   "cell_type": "code",
   "execution_count": 1,
   "metadata": {},
   "outputs": [
    {
     "name": "stderr",
     "output_type": "stream",
     "text": [
      "2024-02-10 08:12:03.249353: E external/local_xla/xla/stream_executor/cuda/cuda_dnn.cc:9261] Unable to register cuDNN factory: Attempting to register factory for plugin cuDNN when one has already been registered\n",
      "2024-02-10 08:12:03.249456: E external/local_xla/xla/stream_executor/cuda/cuda_fft.cc:607] Unable to register cuFFT factory: Attempting to register factory for plugin cuFFT when one has already been registered\n",
      "2024-02-10 08:12:03.366759: E external/local_xla/xla/stream_executor/cuda/cuda_blas.cc:1515] Unable to register cuBLAS factory: Attempting to register factory for plugin cuBLAS when one has already been registered\n",
      "2024-02-10 08:12:03.576235: I tensorflow/core/platform/cpu_feature_guard.cc:182] This TensorFlow binary is optimized to use available CPU instructions in performance-critical operations.\n",
      "To enable the following instructions: AVX2 FMA, in other operations, rebuild TensorFlow with the appropriate compiler flags.\n",
      "2024-02-10 08:12:05.256128: W tensorflow/compiler/tf2tensorrt/utils/py_utils.cc:38] TF-TRT Warning: Could not find TensorRT\n"
     ]
    }
   ],
   "source": [
    "import numpy as np\n",
    "import tensorflow as tf\n",
    "from tensorflow import keras\n",
    "from sklearn.model_selection import train_test_split\n",
    "from sklearn.preprocessing import LabelEncoder\n",
    "from sklearn.metrics import classification_report, confusion_matrix\n",
    "import csv"
   ]
  },
  {
   "cell_type": "code",
   "execution_count": 4,
   "metadata": {},
   "outputs": [
    {
     "data": {
      "text/plain": [
       "['circle', 'square', 'e_circle', 'e_square', 'triangle', 'e_triangle']"
      ]
     },
     "execution_count": 4,
     "metadata": {},
     "output_type": "execute_result"
    }
   ],
   "source": [
    "import os\n",
    "\n",
    "os.getcwd()\n",
    "os.chdir(r\"./accelerometer_data/\")\n",
    "os.listdir()"
   ]
  },
  {
   "cell_type": "code",
   "execution_count": 3,
   "metadata": {},
   "outputs": [],
   "source": [
    "os.chdir(\"..\")\n",
    "# os.chdir(\"acc_py\")\n",
    "# os.getcwd()"
   ]
  },
  {
   "cell_type": "code",
   "execution_count": 3,
   "metadata": {},
   "outputs": [
    {
     "name": "stdout",
     "output_type": "stream",
     "text": [
      "In the e_circle directory\n",
      "In the e_square directory\n",
      "In the e_triangle directory\n",
      "83\n"
     ]
    }
   ],
   "source": [
    "# Generate synthetic accelerometer data for three shapes: Circle, Square, Triangle\n",
    "np.random.seed(42)\n",
    "\n",
    "# Number of samples for each shape\n",
    "# num_samples = 101\n",
    "\n",
    "# Accelerometer data (x, y, z)\n",
    "# shapes = {}\n",
    "maxlen = 0\n",
    "rec_len = 0\n",
    "for shape in os.listdir():\n",
    "    if shape[0] != 'e':\n",
    "        continue\n",
    "    # shapes[shape] = 0\n",
    "    os.chdir(f\"./{shape}\")\n",
    "    print(f\"In the {shape} directory\")\n",
    "    for file in os.listdir():\n",
    "        rec_len = 0\n",
    "        with open(file, \"r\") as f:\n",
    "            reader = csv.reader(f)\n",
    "            data = list(reader)[1:]\n",
    "            d_array = np.array(data, dtype = float)\n",
    "            # rec_len = d_array.shape[0]\n",
    "            maxlen = max(maxlen, d_array.shape[0])\n",
    "            # shapes[shape] = np.stack((shapes[shape], d_array))\n",
    "            # shapes[shape].append(d_array)\n",
    "        \n",
    "        # if rec_len <= 5 or rec_len > 85:\n",
    "        #     os.remove(file)\n",
    "        #     shapes[shape] += 1\n",
    "    # shapes[shape] = np.array(shapes[shape])\n",
    "\n",
    "    os.chdir(\"..\")\n",
    "\n",
    "\n",
    "# print(shapes)\n",
    "\n",
    "print(maxlen)\n",
    "# print(shapes)\n"
   ]
  },
  {
   "cell_type": "code",
   "execution_count": 5,
   "metadata": {},
   "outputs": [
    {
     "name": "stdout",
     "output_type": "stream",
     "text": [
      "In the e_circle directory\n",
      "circle (101, 83, 3)\n",
      "In the e_square directory\n",
      "square (101, 83, 3)\n",
      "In the e_triangle directory\n",
      "triangle (101, 83, 3)\n"
     ]
    }
   ],
   "source": [
    "hist_data = []\n",
    "shapes = {}\n",
    "\n",
    "for shape in os.listdir():\n",
    "    if shape[0] != 'e':\n",
    "        continue\n",
    "    os.chdir(f\"./{shape}\")\n",
    "    print(f\"In the {shape} directory\")\n",
    "    shape = shape[2:]\n",
    "    for i, file in enumerate(os.listdir()):\n",
    "        with open(file, \"r\") as f:\n",
    "            try:\n",
    "                reader = csv.reader(f)\n",
    "                data = list(reader)[1:]\n",
    "                data.extend([['0.0' for _ in range(4)] for _ in range(83 - len(data))])\n",
    "                d_array = np.array(data, dtype = float)\n",
    "                d_array = d_array[:, 1:]\n",
    "                d_array.reshape((1, 83, 3))\n",
    "                # hist_data.append(d_array.shape[0])\n",
    "                if i == 0:\n",
    "                    shapes[shape] = d_array\n",
    "                else:\n",
    "                    shapes[shape] = np.append(shapes[shape], d_array)\n",
    "            except Exception as e:\n",
    "                os.chdir(\"..\")\n",
    "                raise e\n",
    "            \n",
    "    shapes[shape] = shapes[shape].reshape((101, 83, 3))\n",
    "    print(shape, shapes[shape].shape)\n",
    "    os.chdir(\"..\")\n",
    "\n",
    "# shapes['e_circle'] = shapes['e_circle'].reshape((101, 83, 3))\n",
    "# print(shapes['e_circle'])"
   ]
  },
  {
   "cell_type": "code",
   "execution_count": 4,
   "metadata": {},
   "outputs": [
    {
     "data": {
      "image/png": "[encoded data removed]",
      "text/plain": [
       "<Figure size 640x480 with 1 Axes>"
      ]
     },
     "metadata": {},
     "output_type": "display_data"
    }
   ],
   "source": [
    "import matplotlib.pyplot as plt\n",
    "\n",
    "plt.hist(hist_data, int(120/5), color = 'green', alpha = 0.7)\n",
    "plt.xlabel('Length of data')\n",
    "plt.ylabel('No. of recordings')\n",
    "plt.show()"
   ]
  },
  {
   "cell_type": "code",
   "execution_count": 6,
   "metadata": {},
   "outputs": [
    {
     "data": {
      "text/plain": [
       "(303,)"
      ]
     },
     "execution_count": 6,
     "metadata": {},
     "output_type": "execute_result"
    }
   ],
   "source": [
    "\n",
    "samples = 101\n",
    "\n",
    "# Combine data and labels\n",
    "data = np.vstack((shapes['circle'], shapes['square'], shapes['triangle']))\n",
    "labels = np.hstack((['circle'] * samples, ['square'] * samples, ['triangle'] * samples))\n",
    "labels.shape\n"
   ]
  },
  {
   "cell_type": "code",
   "execution_count": 7,
   "metadata": {},
   "outputs": [],
   "source": [
    "# Encode labels\n",
    "label_encoder = LabelEncoder()\n",
    "encoded_labels = label_encoder.fit_transform(labels)\n",
    "\n",
    "# Split data into training and testing sets\n",
    "X_train, X_test, y_train, y_test = train_test_split(data, encoded_labels, test_size=0.2, random_state=42)"
   ]
  },
  {
   "cell_type": "code",
   "execution_count": 122,
   "metadata": {},
   "outputs": [],
   "source": [
    "from tensorflow import keras\n",
    "\n",
    "model = keras.models.Sequential()\n",
    "\n",
    "model.add(keras.Input(shape = (X_train.shape[1], X_train.shape[2])))\n",
    "model.add(keras.layers.Flatten())\n",
    "model.add(keras.layers.Dense(32, activation='relu'))\n",
    "model.add(keras.layers.Dense(16, activation='relu'))\n",
    "model.add(keras.layers.Dense(8, activation='relu'))\n",
    "# model.add(keras.layers.Dropout(0.1))\n",
    "model.add(keras.layers.Dense(3, activation='softmax'))\n",
    "# model.add(SimpleRNN(64, input_shape=(X_train.shape[1], X_train.shape[2])))\n",
    "# model.add(Dense(3, activation='softmax'))\n",
    "\n",
    "# Compile the model\n",
    "loss_fn = keras.losses.SparseCategoricalCrossentropy(from_logits=True)\n",
    "model.compile(optimizer='adam', loss=loss_fn, metrics=['accuracy'])"
   ]
  },
  {
   "cell_type": "code",
   "execution_count": 123,
   "metadata": {},
   "outputs": [
    {
     "name": "stdout",
     "output_type": "stream",
     "text": [
      "Model: \"sequential_3\"\n",
      "_________________________________________________________________\n",
      " Layer (type)                Output Shape              Param #   \n",
      "=================================================================\n",
      " flatten_3 (Flatten)         (None, 249)               0         \n",
      "                                                                 \n",
      " dense_10 (Dense)            (None, 32)                8000      \n",
      "                                                                 \n",
      " dense_11 (Dense)            (None, 16)                528       \n",
      "                                                                 \n",
      " dense_12 (Dense)            (None, 8)                 136       \n",
      "                                                                 \n",
      " dense_13 (Dense)            (None, 3)                 27        \n",
      "                                                                 \n",
      "=================================================================\n",
      "Total params: 8691 (33.95 KB)\n",
      "Trainable params: 8691 (33.95 KB)\n",
      "Non-trainable params: 0 (0.00 Byte)\n",
      "_________________________________________________________________\n"
     ]
    }
   ],
   "source": [
    "model.summary()"
   ]
  },
  {
   "cell_type": "code",
   "execution_count": 124,
   "metadata": {},
   "outputs": [
    {
     "name": "stdout",
     "output_type": "stream",
     "text": [
      "Epoch 1/40\n",
      "193/193 [==============================] - 2s 3ms/step - loss: 0.9656 - accuracy: 0.5233 - val_loss: 0.8063 - val_accuracy: 0.6735\n",
      "Epoch 2/40\n",
      "193/193 [==============================] - 1s 3ms/step - loss: 0.6218 - accuracy: 0.7772 - val_loss: 0.7598 - val_accuracy: 0.7347\n",
      "Epoch 3/40\n",
      "193/193 [==============================] - 1s 3ms/step - loss: 0.5062 - accuracy: 0.8031 - val_loss: 0.7249 - val_accuracy: 0.6735\n",
      "Epoch 4/40\n",
      "193/193 [==============================] - 1s 3ms/step - loss: 0.4137 - accuracy: 0.8342 - val_loss: 0.7735 - val_accuracy: 0.6735\n",
      "Epoch 5/40\n",
      "193/193 [==============================] - 1s 3ms/step - loss: 0.3541 - accuracy: 0.8653 - val_loss: 0.8347 - val_accuracy: 0.7143\n",
      "Epoch 6/40\n",
      "193/193 [==============================] - 1s 3ms/step - loss: 0.3250 - accuracy: 0.8653 - val_loss: 0.7556 - val_accuracy: 0.6939\n",
      "Epoch 7/40\n",
      "193/193 [==============================] - 1s 3ms/step - loss: 0.3002 - accuracy: 0.8912 - val_loss: 0.7652 - val_accuracy: 0.7143\n",
      "Epoch 8/40\n",
      "193/193 [==============================] - 1s 3ms/step - loss: 0.2449 - accuracy: 0.9067 - val_loss: 0.8865 - val_accuracy: 0.6939\n",
      "Epoch 9/40\n",
      "193/193 [==============================] - 1s 3ms/step - loss: 0.2421 - accuracy: 0.8912 - val_loss: 0.7902 - val_accuracy: 0.7347\n",
      "Epoch 10/40\n",
      "193/193 [==============================] - 1s 3ms/step - loss: 0.1940 - accuracy: 0.9223 - val_loss: 0.8028 - val_accuracy: 0.7347\n",
      "Epoch 11/40\n",
      "193/193 [==============================] - 1s 3ms/step - loss: 0.1499 - accuracy: 0.9482 - val_loss: 0.8584 - val_accuracy: 0.7551\n",
      "Epoch 12/40\n",
      "193/193 [==============================] - 1s 3ms/step - loss: 0.1424 - accuracy: 0.9430 - val_loss: 0.8337 - val_accuracy: 0.7551\n",
      "Epoch 13/40\n",
      "193/193 [==============================] - 1s 3ms/step - loss: 0.1098 - accuracy: 0.9689 - val_loss: 0.9216 - val_accuracy: 0.7551\n",
      "Epoch 14/40\n",
      "193/193 [==============================] - 1s 3ms/step - loss: 0.0891 - accuracy: 0.9793 - val_loss: 1.0397 - val_accuracy: 0.7551\n",
      "Epoch 15/40\n",
      "193/193 [==============================] - 1s 3ms/step - loss: 0.0904 - accuracy: 0.9689 - val_loss: 0.9616 - val_accuracy: 0.7551\n",
      "Epoch 16/40\n",
      "193/193 [==============================] - 1s 3ms/step - loss: 0.0486 - accuracy: 0.9948 - val_loss: 1.0155 - val_accuracy: 0.7551\n",
      "Epoch 17/40\n",
      "193/193 [==============================] - 1s 3ms/step - loss: 0.0662 - accuracy: 0.9741 - val_loss: 1.0339 - val_accuracy: 0.6939\n",
      "Epoch 18/40\n",
      "193/193 [==============================] - 1s 3ms/step - loss: 0.1173 - accuracy: 0.9637 - val_loss: 1.0780 - val_accuracy: 0.6939\n",
      "Epoch 19/40\n",
      "193/193 [==============================] - 1s 3ms/step - loss: 0.0412 - accuracy: 0.9948 - val_loss: 1.0797 - val_accuracy: 0.7347\n",
      "Epoch 20/40\n",
      "193/193 [==============================] - 1s 3ms/step - loss: 0.0207 - accuracy: 0.9948 - val_loss: 1.1626 - val_accuracy: 0.7551\n",
      "Epoch 21/40\n",
      "193/193 [==============================] - 1s 3ms/step - loss: 0.0315 - accuracy: 0.9948 - val_loss: 1.2324 - val_accuracy: 0.7347\n",
      "Epoch 22/40\n",
      "193/193 [==============================] - 1s 3ms/step - loss: 0.0217 - accuracy: 0.9896 - val_loss: 1.1436 - val_accuracy: 0.7347\n",
      "Epoch 23/40\n",
      "193/193 [==============================] - 1s 3ms/step - loss: 0.0147 - accuracy: 0.9948 - val_loss: 1.2232 - val_accuracy: 0.7347\n",
      "Epoch 24/40\n",
      "193/193 [==============================] - 1s 3ms/step - loss: 0.0064 - accuracy: 1.0000 - val_loss: 1.2204 - val_accuracy: 0.7551\n",
      "Epoch 25/40\n",
      "193/193 [==============================] - 1s 3ms/step - loss: 0.0055 - accuracy: 1.0000 - val_loss: 1.2244 - val_accuracy: 0.7347\n",
      "Epoch 26/40\n",
      "193/193 [==============================] - 1s 3ms/step - loss: 0.0040 - accuracy: 1.0000 - val_loss: 1.1861 - val_accuracy: 0.7347\n",
      "Epoch 27/40\n",
      "193/193 [==============================] - 1s 3ms/step - loss: 0.0030 - accuracy: 1.0000 - val_loss: 1.2667 - val_accuracy: 0.7551\n",
      "Epoch 28/40\n",
      "193/193 [==============================] - 1s 3ms/step - loss: 0.0027 - accuracy: 1.0000 - val_loss: 1.3050 - val_accuracy: 0.7551\n",
      "Epoch 29/40\n",
      "193/193 [==============================] - 1s 3ms/step - loss: 0.0022 - accuracy: 1.0000 - val_loss: 1.2813 - val_accuracy: 0.7347\n",
      "Epoch 30/40\n",
      "193/193 [==============================] - 1s 3ms/step - loss: 0.0018 - accuracy: 1.0000 - val_loss: 1.3209 - val_accuracy: 0.7551\n",
      "Epoch 31/40\n",
      "193/193 [==============================] - 1s 3ms/step - loss: 0.0015 - accuracy: 1.0000 - val_loss: 1.3421 - val_accuracy: 0.7347\n",
      "Epoch 32/40\n",
      "193/193 [==============================] - 1s 3ms/step - loss: 0.0014 - accuracy: 1.0000 - val_loss: 1.3850 - val_accuracy: 0.7551\n",
      "Epoch 33/40\n",
      "193/193 [==============================] - 1s 3ms/step - loss: 0.0013 - accuracy: 1.0000 - val_loss: 1.3538 - val_accuracy: 0.7551\n",
      "Epoch 34/40\n",
      "193/193 [==============================] - 1s 3ms/step - loss: 9.7499e-04 - accuracy: 1.0000 - val_loss: 1.3654 - val_accuracy: 0.7551\n",
      "Epoch 35/40\n",
      "193/193 [==============================] - 1s 3ms/step - loss: 8.4428e-04 - accuracy: 1.0000 - val_loss: 1.4039 - val_accuracy: 0.7347\n",
      "Epoch 36/40\n",
      "193/193 [==============================] - 1s 3ms/step - loss: 7.4237e-04 - accuracy: 1.0000 - val_loss: 1.3900 - val_accuracy: 0.7347\n",
      "Epoch 37/40\n",
      "193/193 [==============================] - 1s 3ms/step - loss: 5.9259e-04 - accuracy: 1.0000 - val_loss: 1.4257 - val_accuracy: 0.7347\n",
      "Epoch 38/40\n",
      "193/193 [==============================] - 1s 3ms/step - loss: 5.6912e-04 - accuracy: 1.0000 - val_loss: 1.4564 - val_accuracy: 0.7551\n",
      "Epoch 39/40\n",
      "193/193 [==============================] - 1s 3ms/step - loss: 4.7021e-04 - accuracy: 1.0000 - val_loss: 1.4623 - val_accuracy: 0.7347\n",
      "Epoch 40/40\n",
      "193/193 [==============================] - 1s 3ms/step - loss: 4.1905e-04 - accuracy: 1.0000 - val_loss: 1.5064 - val_accuracy: 0.7347\n"
     ]
    },
    {
     "data": {
      "text/plain": [
       "<keras.src.callbacks.History at 0x7ee01c37f710>"
      ]
     },
     "execution_count": 124,
     "metadata": {},
     "output_type": "execute_result"
    }
   ],
   "source": [
    "model.fit(X_train, y_train, epochs=40, batch_size=1, validation_split=0.2)"
   ]
  },
  {
   "cell_type": "code",
   "execution_count": 125,
   "metadata": {},
   "outputs": [
    {
     "name": "stdout",
     "output_type": "stream",
     "text": [
      "2/2 [==============================] - 0s 2ms/step\n",
      "              precision    recall  f1-score   support\n",
      "\n",
      "      circle       0.85      0.85      0.85        20\n",
      "      square       0.79      0.83      0.81        18\n",
      "    triangle       0.82      0.78      0.80        23\n",
      "\n",
      "    accuracy                           0.82        61\n",
      "   macro avg       0.82      0.82      0.82        61\n",
      "weighted avg       0.82      0.82      0.82        61\n",
      "\n",
      "[[17  1  2]\n",
      " [ 1 15  2]\n",
      " [ 2  3 18]]\n"
     ]
    }
   ],
   "source": [
    "y_pred = np.argmax(model.predict(X_test), axis=1)\n",
    "\n",
    "# Decode predictions\n",
    "# decoded_predictions = label_encoder.inverse_transform(y_pred)\n",
    "\n",
    "# print(decoded_predictions)\n",
    "# print(y_pred)\n",
    "\n",
    "# Calculate accuracy\n",
    "print(classification_report(y_pred, y_test, target_names=['circle', 'square', 'triangle']))\n",
    "print(confusion_matrix(y_pred, y_test))"
   ]
  },
  {
   "cell_type": "code",
   "execution_count": 126,
   "metadata": {},
   "outputs": [
    {
     "name": "stdout",
     "output_type": "stream",
     "text": [
      "INFO:tensorflow:Assets written to: acc/assets\n"
     ]
    },
    {
     "name": "stderr",
     "output_type": "stream",
     "text": [
      "INFO:tensorflow:Assets written to: acc/assets\n"
     ]
    }
   ],
   "source": [
    "os.chdir(\"..\")\n",
    "model.save(\"acc\")"
   ]
  },
  {
   "cell_type": "code",
   "execution_count": 127,
   "metadata": {},
   "outputs": [
    {
     "name": "stdout",
     "output_type": "stream",
     "text": [
      "INFO:tensorflow:Assets written to: /tmp/tmp77ggm_mk/assets\n"
     ]
    },
    {
     "name": "stderr",
     "output_type": "stream",
     "text": [
      "INFO:tensorflow:Assets written to: /tmp/tmp77ggm_mk/assets\n",
      "/home/risb/Desktop/acc_py/rnn/lib/python3.11/site-packages/tensorflow/lite/python/convert.py:953: UserWarning: Statistics for quantized inputs were expected, but not specified; continuing anyway.\n",
      "  warnings.warn(\n",
      "2024-02-10 09:23:15.819858: W tensorflow/compiler/mlir/lite/python/tf_tfl_flatbuffer_helpers.cc:378] Ignored output_format.\n",
      "2024-02-10 09:23:15.819885: W tensorflow/compiler/mlir/lite/python/tf_tfl_flatbuffer_helpers.cc:381] Ignored drop_control_dependency.\n",
      "2024-02-10 09:23:15.820049: I tensorflow/cc/saved_model/reader.cc:83] Reading SavedModel from: /tmp/tmp77ggm_mk\n",
      "2024-02-10 09:23:15.820691: I tensorflow/cc/saved_model/reader.cc:51] Reading meta graph with tags { serve }\n",
      "2024-02-10 09:23:15.820702: I tensorflow/cc/saved_model/reader.cc:146] Reading SavedModel debug info (if present) from: /tmp/tmp77ggm_mk\n",
      "2024-02-10 09:23:15.822667: I tensorflow/cc/saved_model/loader.cc:233] Restoring SavedModel bundle.\n",
      "2024-02-10 09:23:15.846666: I tensorflow/cc/saved_model/loader.cc:217] Running initialization op on SavedModel bundle at path: /tmp/tmp77ggm_mk\n",
      "2024-02-10 09:23:15.855702: I tensorflow/cc/saved_model/loader.cc:316] SavedModel load for tags { serve }; Status: success: OK. Took 35653 microseconds.\n",
      "Summary on the non-converted ops:\n",
      "---------------------------------\n",
      " * Accepted dialects: tfl, builtin, func\n",
      " * Non-Converted Ops: 9, Total Ops 18, % non-converted = 50.00 %\n",
      " * 9 ARITH ops\n",
      "\n",
      "- arith.constant:    9 occurrences  (f32: 8, i32: 1)\n",
      "\n",
      "\n",
      "\n",
      "  (f32: 4)\n",
      "  (f32: 1)\n",
      "  (f32: 1)\n",
      "fully_quantize: 0, inference_type: 6, input_inference_type: UINT8, output_inference_type: UINT8\n"
     ]
    }
   ],
   "source": [
    "import random\n",
    "import datetime\n",
    "\n",
    "random.seed(datetime.datetime.now().microsecond + datetime.datetime.now().second)\n",
    "\n",
    "model = keras.models.load_model(\"acc\")\n",
    "\n",
    "def repr_dataset():\n",
    "    data = shapes[random.choice(['circle', 'square', 'triangle'])][random.randint(0, 100)]\n",
    "    yield [np.float32(data)]\n",
    "\n",
    "tflite_name = \"acc_edge_small_int8.tflite\"\n",
    "\n",
    "tflite_converter = tf.lite.TFLiteConverter.from_keras_model(model)\n",
    "tflite_converter.representative_dataset = repr_dataset\n",
    "tflite_converter.target_spec.supported_ops = [tf.lite.OpsSet.TFLITE_BUILTINS_INT8]\n",
    "tflite_converter.inference_input_type = tf.uint8\n",
    "tflite_converter.inference_output_type = tf.uint8\n",
    "tflite_converter.optimizations = [tf.lite.Optimize.DEFAULT]\n",
    "tflite_model = tflite_converter.convert()"
   ]
  },
  {
   "cell_type": "code",
   "execution_count": 128,
   "metadata": {},
   "outputs": [
    {
     "data": {
      "text/plain": [
       "12608"
      ]
     },
     "execution_count": 128,
     "metadata": {},
     "output_type": "execute_result"
    }
   ],
   "source": [
    "\n",
    "open(tflite_name, 'wb').write(tflite_model)"
   ]
  },
  {
   "cell_type": "code",
   "execution_count": 129,
   "metadata": {},
   "outputs": [],
   "source": [
    "def hex_to_carray(hex_data, var: str) -> str:\n",
    "    c_str = ''\n",
    "\n",
    "    # Add header\n",
    "    c_str += '#pragma once\\n\\n'\n",
    "    c_str += 'const unsigned int ' + var + '_len = ' + str(len(hex_data)) + ';\\n'\n",
    "    c_str += 'const unsigned char ' + var + '[] = {\\n\\t'\n",
    "\n",
    "    for i, val in enumerate(hex_data):\n",
    "        c_str += f\"0x{val:02x}{',' if i+1 < len(hex_data) else ''}\"\n",
    "        if (i+1) % 100 == 0:\n",
    "            c_str += '\\n\\t'\n",
    "    \n",
    "    c_str += '\\n};\\n'\n",
    "\n",
    "    return c_str"
   ]
  },
  {
   "cell_type": "code",
   "execution_count": 130,
   "metadata": {},
   "outputs": [],
   "source": [
    "with open('shape_model_int8.hpp', 'w') as f:\n",
    "    f.write(hex_to_carray(tflite_model, 'shape_model'))"
   ]
  },
  {
   "cell_type": "code",
   "execution_count": 118,
   "metadata": {},
   "outputs": [
    {
     "name": "stdout",
     "output_type": "stream",
     "text": [
      "[{'name': 'serving_default_input_2:0', 'index': 0, 'shape': array([ 1, 83,  3], dtype=int32), 'shape_signature': array([-1, 83,  3], dtype=int32), 'dtype': <class 'numpy.uint8'>, 'quantization': (0.015313724987208843, 124), 'quantization_parameters': {'scales': array([0.01531372], dtype=float32), 'zero_points': array([124], dtype=int32), 'quantized_dimension': 0}, 'sparsity_parameters': {}}]\n",
      "[{'name': 'StatefulPartitionedCall:0', 'index': 14, 'shape': array([1, 3], dtype=int32), 'shape_signature': array([-1,  3], dtype=int32), 'dtype': <class 'numpy.uint8'>, 'quantization': (0.00390625, 0), 'quantization_parameters': {'scales': array([0.00390625], dtype=float32), 'zero_points': array([0], dtype=int32), 'quantized_dimension': 0}, 'sparsity_parameters': {}}]\n"
     ]
    }
   ],
   "source": [
    "import random\n",
    "import datetime\n",
    "\n",
    "\n",
    "random.seed(datetime.datetime.now().microsecond + datetime.datetime.now().second)\n",
    "\n",
    "interpreter = tf.lite.Interpreter(model_path='acc_edge_small_int8.tflite')\n",
    "\n",
    "input_details = interpreter.get_input_details()\n",
    "output_details = interpreter.get_output_details()\n",
    "\n",
    "interpreter.allocate_tensors()\n",
    "\n",
    "# input details\n",
    "print(input_details)\n",
    "# output details\n",
    "print(output_details)\n",
    "\n",
    "# interpreter.set_tensor(input_details[0]['index'], np.float32(shapes['square'][random.randint(0, 100)].reshape((1, 83, 3))))\n",
    "# interpreter.invoke()\n",
    "\n",
    "# output_data = interpreter.get_tensor(output_details[0]['index'])\n",
    "\n",
    "# print(output_data)"
   ]
  }
 ],
 "metadata": {
  "kernelspec": {
   "display_name": "Python 3",
   "language": "python",
   "name": "python3"
  },
  "language_info": {
   "codemirror_mode": {
    "name": "ipython",
    "version": 3
   },
   "file_extension": ".py",
   "mimetype": "text/x-python",
   "name": "python",
   "nbconvert_exporter": "python",
   "pygments_lexer": "ipython3",
   "version": "3.11.6"
  }
 },
 "nbformat": 4,
 "nbformat_minor": 2
}
